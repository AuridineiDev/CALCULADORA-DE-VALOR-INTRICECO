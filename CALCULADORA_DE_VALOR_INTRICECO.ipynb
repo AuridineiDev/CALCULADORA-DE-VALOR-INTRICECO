{
  "cells": [
    {
      "cell_type": "markdown",
      "metadata": {
        "id": "view-in-github",
        "colab_type": "text"
      },
      "source": [
        "<a href=\"https://colab.research.google.com/github/AuridineiDev/CALCULADORA-DE-VALOR-INTRICECO/blob/main/CALCULADORA_DE_VALOR_INTRICECO.ipynb\" target=\"_parent\"><img src=\"https://colab.research.google.com/assets/colab-badge.svg\" alt=\"Open In Colab\"/></a>"
      ]
    },
    {
      "cell_type": "code",
      "execution_count": null,
      "metadata": {
        "colab": {
          "background_save": true,
          "base_uri": "https://localhost:8080/"
        },
        "id": "E-UC5G6Luaqa",
        "outputId": "0171c187-03b9-45d4-85fd-c8a0b03df58a"
      },
      "outputs": [
        {
          "name": "stdout",
          "output_type": "stream",
          "text": [
            "Cálculo do Valor Intrínseco usando a Fórmula de Graham\n",
            "\n"
          ]
        },
        {
          "ename": "KeyboardInterrupt",
          "evalue": "Interrupted by user",
          "output_type": "error",
          "traceback": [
            "\u001b[0;31m---------------------------------------------------------------------------\u001b[0m",
            "\u001b[0;31mKeyboardInterrupt\u001b[0m                         Traceback (most recent call last)",
            "\u001b[0;32m<ipython-input-1-bc97b69afc4d>\u001b[0m in \u001b[0;36m<cell line: 37>\u001b[0;34m()\u001b[0m\n\u001b[1;32m     35\u001b[0m \u001b[0;34m\u001b[0m\u001b[0m\n\u001b[1;32m     36\u001b[0m \u001b[0;31m# Executar a função\u001b[0m\u001b[0;34m\u001b[0m\u001b[0;34m\u001b[0m\u001b[0m\n\u001b[0;32m---> 37\u001b[0;31m \u001b[0mcalcular_valor_intrinseco\u001b[0m\u001b[0;34m(\u001b[0m\u001b[0;34m)\u001b[0m\u001b[0;34m\u001b[0m\u001b[0;34m\u001b[0m\u001b[0m\n\u001b[0m\u001b[1;32m     38\u001b[0m \u001b[0;34m\u001b[0m\u001b[0m\n",
            "\u001b[0;32m<ipython-input-1-bc97b69afc4d>\u001b[0m in \u001b[0;36mcalcular_valor_intrinseco\u001b[0;34m()\u001b[0m\n\u001b[1;32m      4\u001b[0m     \u001b[0;32mtry\u001b[0m\u001b[0;34m:\u001b[0m\u001b[0;34m\u001b[0m\u001b[0;34m\u001b[0m\u001b[0m\n\u001b[1;32m      5\u001b[0m         \u001b[0;31m# Solicita o método de obtenção do EPS\u001b[0m\u001b[0;34m\u001b[0m\u001b[0;34m\u001b[0m\u001b[0m\n\u001b[0;32m----> 6\u001b[0;31m         \u001b[0mmetodo\u001b[0m \u001b[0;34m=\u001b[0m \u001b[0minput\u001b[0m\u001b[0;34m(\u001b[0m\u001b[0;34m\"Você quer fornecer o EPS diretamente ou calcular com base no lucro líquido ou P/L? (digite 'direto', 'lucro' ou 'pl'): \"\u001b[0m\u001b[0;34m)\u001b[0m\u001b[0;34m.\u001b[0m\u001b[0mstrip\u001b[0m\u001b[0;34m(\u001b[0m\u001b[0;34m)\u001b[0m\u001b[0;34m.\u001b[0m\u001b[0mlower\u001b[0m\u001b[0;34m(\u001b[0m\u001b[0;34m)\u001b[0m\u001b[0;34m\u001b[0m\u001b[0;34m\u001b[0m\u001b[0m\n\u001b[0m\u001b[1;32m      7\u001b[0m \u001b[0;34m\u001b[0m\u001b[0m\n\u001b[1;32m      8\u001b[0m         \u001b[0;32mif\u001b[0m \u001b[0mmetodo\u001b[0m \u001b[0;34m==\u001b[0m \u001b[0;34m'direto'\u001b[0m\u001b[0;34m:\u001b[0m\u001b[0;34m\u001b[0m\u001b[0;34m\u001b[0m\u001b[0m\n",
            "\u001b[0;32m/usr/local/lib/python3.10/dist-packages/ipykernel/kernelbase.py\u001b[0m in \u001b[0;36mraw_input\u001b[0;34m(self, prompt)\u001b[0m\n\u001b[1;32m    849\u001b[0m                 \u001b[0;34m\"raw_input was called, but this frontend does not support input requests.\"\u001b[0m\u001b[0;34m\u001b[0m\u001b[0;34m\u001b[0m\u001b[0m\n\u001b[1;32m    850\u001b[0m             )\n\u001b[0;32m--> 851\u001b[0;31m         return self._input_request(str(prompt),\n\u001b[0m\u001b[1;32m    852\u001b[0m             \u001b[0mself\u001b[0m\u001b[0;34m.\u001b[0m\u001b[0m_parent_ident\u001b[0m\u001b[0;34m,\u001b[0m\u001b[0;34m\u001b[0m\u001b[0;34m\u001b[0m\u001b[0m\n\u001b[1;32m    853\u001b[0m             \u001b[0mself\u001b[0m\u001b[0;34m.\u001b[0m\u001b[0m_parent_header\u001b[0m\u001b[0;34m,\u001b[0m\u001b[0;34m\u001b[0m\u001b[0;34m\u001b[0m\u001b[0m\n",
            "\u001b[0;32m/usr/local/lib/python3.10/dist-packages/ipykernel/kernelbase.py\u001b[0m in \u001b[0;36m_input_request\u001b[0;34m(self, prompt, ident, parent, password)\u001b[0m\n\u001b[1;32m    893\u001b[0m             \u001b[0;32mexcept\u001b[0m \u001b[0mKeyboardInterrupt\u001b[0m\u001b[0;34m:\u001b[0m\u001b[0;34m\u001b[0m\u001b[0;34m\u001b[0m\u001b[0m\n\u001b[1;32m    894\u001b[0m                 \u001b[0;31m# re-raise KeyboardInterrupt, to truncate traceback\u001b[0m\u001b[0;34m\u001b[0m\u001b[0;34m\u001b[0m\u001b[0m\n\u001b[0;32m--> 895\u001b[0;31m                 \u001b[0;32mraise\u001b[0m \u001b[0mKeyboardInterrupt\u001b[0m\u001b[0;34m(\u001b[0m\u001b[0;34m\"Interrupted by user\"\u001b[0m\u001b[0;34m)\u001b[0m \u001b[0;32mfrom\u001b[0m \u001b[0;32mNone\u001b[0m\u001b[0;34m\u001b[0m\u001b[0;34m\u001b[0m\u001b[0m\n\u001b[0m\u001b[1;32m    896\u001b[0m             \u001b[0;32mexcept\u001b[0m \u001b[0mException\u001b[0m \u001b[0;32mas\u001b[0m \u001b[0me\u001b[0m\u001b[0;34m:\u001b[0m\u001b[0;34m\u001b[0m\u001b[0;34m\u001b[0m\u001b[0m\n\u001b[1;32m    897\u001b[0m                 \u001b[0mself\u001b[0m\u001b[0;34m.\u001b[0m\u001b[0mlog\u001b[0m\u001b[0;34m.\u001b[0m\u001b[0mwarning\u001b[0m\u001b[0;34m(\u001b[0m\u001b[0;34m\"Invalid Message:\"\u001b[0m\u001b[0;34m,\u001b[0m \u001b[0mexc_info\u001b[0m\u001b[0;34m=\u001b[0m\u001b[0;32mTrue\u001b[0m\u001b[0;34m)\u001b[0m\u001b[0;34m\u001b[0m\u001b[0;34m\u001b[0m\u001b[0m\n",
            "\u001b[0;31mKeyboardInterrupt\u001b[0m: Interrupted by user"
          ]
        }
      ],
      "source": [
        "# Criado e registrado por Auridinei Abreu Lima, programador e investidor com ajuda de IA, todos os direitos reservados a ele.\n",
        "\n",
        "def calcular_valor_intrinseco():\n",
        "    print(\"Cálculo do Valor Intrínseco usando a Fórmula de Graham\\n\")\n",
        "\n",
        "    try:\n",
        "        # Solicita o método de obtenção do EPS\n",
        "        metodo = input(\"Você quer fornecer o EPS diretamente ou calcular com base no lucro líquido ou P/L? (digite 'direto', 'lucro' ou 'pl'): \").strip().lower()\n",
        "\n",
        "        if metodo == 'direto':\n",
        "            eps = float(input(\"Digite o EPS (Lucro por Ação): \"))\n",
        "        elif metodo == 'lucro':\n",
        "            lucro_liquido = float(input(\"Digite o lucro líquido da empresa (em reais): \"))\n",
        "            numero_acoes = float(input(\"Digite o número total de ações emitidas: \"))\n",
        "            eps = lucro_liquido / numero_acoes\n",
        "            print(f\"\\nEPS calculado com base no lucro líquido: R$ {eps:.2f}\")\n",
        "        elif metodo == 'pl':\n",
        "            preco_acao = float(input(\"Digite o preço da ação (em reais): \"))\n",
        "            pl = float(input(\"Digite o P/L (Preço/Lucro) da empresa: \"))\n",
        "            eps = preco_acao / pl\n",
        "            print(f\"\\nEPS calculado com base no P/L: R$ {eps:.2f}\")\n",
        "        else:\n",
        "            print(\"Opção inválida. Por favor, escolha entre 'direto', 'lucro' ou 'pl'.\")\n",
        "            return\n",
        "\n",
        "        # Solicita outras informações para a Fórmula de Graham\n",
        "        taxa_crescimento = float(input(\"Digite a taxa de crescimento esperada (em %): \"))\n",
        "        taxa_juros_atual = float(input(\"Digite a taxa de juros atual (em %): \"))\n",
        "\n",
        "        # Fórmula Revisada de Graham\n",
        "        valor_intrinseco = (eps * (8.5 + 2 * taxa_crescimento) * 4.4) / taxa_juros_atual\n",
        "\n",
        "        print(f\"\\nO valor intrínseco calculado da ação é: R$ {valor_intrinseco:.2f}\")\n",
        "\n",
        "    except ValueError:\n",
        "        print(\"Erro: Por favor, insira valores numéricos válidos.\")\n",
        "\n",
        "# Executar a função\n",
        "calcular_valor_intrinseco()\n",
        "\n"
      ]
    }
  ],
  "metadata": {
    "colab": {
      "provenance": [],
      "authorship_tag": "ABX9TyPKtjlMqGVfKGtfCjVRGkWJ",
      "include_colab_link": true
    },
    "kernelspec": {
      "display_name": "Python 3",
      "name": "python3"
    },
    "language_info": {
      "name": "python"
    }
  },
  "nbformat": 4,
  "nbformat_minor": 0
}